{
 "cells": [
  {
   "cell_type": "code",
   "execution_count": 1,
   "id": "70537b2e-b6c0-4d48-a47e-13030e7bf8c2",
   "metadata": {},
   "outputs": [],
   "source": [
    "import math\n",
    "import pandas as pd\n",
    "import numpy as np\n",
    "import matplotlib.pyplot as plt\n"
   ]
  },
  {
   "cell_type": "code",
   "execution_count": 52,
   "id": "e70ae090-53a3-4a0c-bc19-22ac9144540f",
   "metadata": {},
   "outputs": [],
   "source": [
    "data=pd.read_csv(\"kmeans_clustering_dataset.csv\")"
   ]
  },
  {
   "cell_type": "code",
   "execution_count": 53,
   "id": "5269d995-bda8-46e1-80ae-b5fc8cfaeaa3",
   "metadata": {},
   "outputs": [
    {
     "data": {
      "text/html": [
       "<div>\n",
       "<style scoped>\n",
       "    .dataframe tbody tr th:only-of-type {\n",
       "        vertical-align: middle;\n",
       "    }\n",
       "\n",
       "    .dataframe tbody tr th {\n",
       "        vertical-align: top;\n",
       "    }\n",
       "\n",
       "    .dataframe thead th {\n",
       "        text-align: right;\n",
       "    }\n",
       "</style>\n",
       "<table border=\"1\" class=\"dataframe\">\n",
       "  <thead>\n",
       "    <tr style=\"text-align: right;\">\n",
       "      <th></th>\n",
       "      <th>Feature1</th>\n",
       "      <th>Feature2</th>\n",
       "    </tr>\n",
       "  </thead>\n",
       "  <tbody>\n",
       "    <tr>\n",
       "      <th>0</th>\n",
       "      <td>1.248357</td>\n",
       "      <td>0.930868</td>\n",
       "    </tr>\n",
       "    <tr>\n",
       "      <th>1</th>\n",
       "      <td>1.323844</td>\n",
       "      <td>1.761515</td>\n",
       "    </tr>\n",
       "    <tr>\n",
       "      <th>2</th>\n",
       "      <td>0.882923</td>\n",
       "      <td>0.882932</td>\n",
       "    </tr>\n",
       "    <tr>\n",
       "      <th>3</th>\n",
       "      <td>1.789606</td>\n",
       "      <td>1.383717</td>\n",
       "    </tr>\n",
       "    <tr>\n",
       "      <th>4</th>\n",
       "      <td>0.765263</td>\n",
       "      <td>1.271280</td>\n",
       "    </tr>\n",
       "  </tbody>\n",
       "</table>\n",
       "</div>"
      ],
      "text/plain": [
       "   Feature1  Feature2\n",
       "0  1.248357  0.930868\n",
       "1  1.323844  1.761515\n",
       "2  0.882923  0.882932\n",
       "3  1.789606  1.383717\n",
       "4  0.765263  1.271280"
      ]
     },
     "execution_count": 53,
     "metadata": {},
     "output_type": "execute_result"
    }
   ],
   "source": [
    "data.head()"
   ]
  },
  {
   "cell_type": "code",
   "execution_count": 54,
   "id": "b5089167-e792-4086-a3aa-0d25e1966d28",
   "metadata": {},
   "outputs": [
    {
     "data": {
      "text/html": [
       "<div>\n",
       "<style scoped>\n",
       "    .dataframe tbody tr th:only-of-type {\n",
       "        vertical-align: middle;\n",
       "    }\n",
       "\n",
       "    .dataframe tbody tr th {\n",
       "        vertical-align: top;\n",
       "    }\n",
       "\n",
       "    .dataframe thead th {\n",
       "        text-align: right;\n",
       "    }\n",
       "</style>\n",
       "<table border=\"1\" class=\"dataframe\">\n",
       "  <thead>\n",
       "    <tr style=\"text-align: right;\">\n",
       "      <th></th>\n",
       "      <th>Feature1</th>\n",
       "      <th>Feature2</th>\n",
       "    </tr>\n",
       "  </thead>\n",
       "  <tbody>\n",
       "    <tr>\n",
       "      <th>0</th>\n",
       "      <td>1.248357</td>\n",
       "      <td>0.930868</td>\n",
       "    </tr>\n",
       "    <tr>\n",
       "      <th>1</th>\n",
       "      <td>1.323844</td>\n",
       "      <td>1.761515</td>\n",
       "    </tr>\n",
       "    <tr>\n",
       "      <th>2</th>\n",
       "      <td>0.882923</td>\n",
       "      <td>0.882932</td>\n",
       "    </tr>\n",
       "    <tr>\n",
       "      <th>3</th>\n",
       "      <td>1.789606</td>\n",
       "      <td>1.383717</td>\n",
       "    </tr>\n",
       "    <tr>\n",
       "      <th>4</th>\n",
       "      <td>0.765263</td>\n",
       "      <td>1.271280</td>\n",
       "    </tr>\n",
       "    <tr>\n",
       "      <th>...</th>\n",
       "      <td>...</td>\n",
       "      <td>...</td>\n",
       "    </tr>\n",
       "    <tr>\n",
       "      <th>493</th>\n",
       "      <td>9.751699</td>\n",
       "      <td>1.438681</td>\n",
       "    </tr>\n",
       "    <tr>\n",
       "      <th>494</th>\n",
       "      <td>8.889518</td>\n",
       "      <td>1.013443</td>\n",
       "    </tr>\n",
       "    <tr>\n",
       "      <th>495</th>\n",
       "      <td>9.104191</td>\n",
       "      <td>-0.020867</td>\n",
       "    </tr>\n",
       "    <tr>\n",
       "      <th>496</th>\n",
       "      <td>8.876411</td>\n",
       "      <td>0.659008</td>\n",
       "    </tr>\n",
       "    <tr>\n",
       "      <th>497</th>\n",
       "      <td>8.499190</td>\n",
       "      <td>0.859450</td>\n",
       "    </tr>\n",
       "  </tbody>\n",
       "</table>\n",
       "<p>498 rows × 2 columns</p>\n",
       "</div>"
      ],
      "text/plain": [
       "     Feature1  Feature2\n",
       "0    1.248357  0.930868\n",
       "1    1.323844  1.761515\n",
       "2    0.882923  0.882932\n",
       "3    1.789606  1.383717\n",
       "4    0.765263  1.271280\n",
       "..        ...       ...\n",
       "493  9.751699  1.438681\n",
       "494  8.889518  1.013443\n",
       "495  9.104191 -0.020867\n",
       "496  8.876411  0.659008\n",
       "497  8.499190  0.859450\n",
       "\n",
       "[498 rows x 2 columns]"
      ]
     },
     "execution_count": 54,
     "metadata": {},
     "output_type": "execute_result"
    }
   ],
   "source": [
    "data"
   ]
  },
  {
   "cell_type": "code",
   "execution_count": 55,
   "id": "d5f4a309-5804-4384-8eb9-73d2b7e7ae8b",
   "metadata": {},
   "outputs": [],
   "source": [
    "k=3"
   ]
  },
  {
   "cell_type": "code",
   "execution_count": 142,
   "id": "114c5a19-5e20-4302-8bc0-7f6c07b64510",
   "metadata": {},
   "outputs": [
    {
     "data": {
      "text/plain": [
       "<matplotlib.collections.PathCollection at 0x14bb0f59c10>"
      ]
     },
     "execution_count": 142,
     "metadata": {},
     "output_type": "execute_result"
    },
    {
     "data": {
      "image/png": "[encoded data removed]",
      "text/plain": [
       "<Figure size 640x480 with 1 Axes>"
      ]
     },
     "metadata": {},
     "output_type": "display_data"
    }
   ],
   "source": [
    "plt.scatter(x=data['Feature1'],y=data['Feature2'])"
   ]
  },
  {
   "cell_type": "code",
   "execution_count": 179,
   "id": "3487589d-90f4-4e6a-92ba-81549550e536",
   "metadata": {},
   "outputs": [
    {
     "data": {
      "text/plain": [
       "498"
      ]
     },
     "execution_count": 179,
     "metadata": {},
     "output_type": "execute_result"
    }
   ],
   "source": [
    "n_rows=len(data)\n",
    "n_rows"
   ]
  },
  {
   "cell_type": "code",
   "execution_count": null,
   "id": "a772d158-13f8-4471-a28b-8b144cbc5837",
   "metadata": {},
   "outputs": [],
   "source": []
  },
  {
   "cell_type": "code",
   "execution_count": 57,
   "id": "b40afec4-a954-4485-8b3b-ad6905c3f94c",
   "metadata": {},
   "outputs": [
    {
     "data": {
      "text/plain": [
       "2"
      ]
     },
     "execution_count": 57,
     "metadata": {},
     "output_type": "execute_result"
    }
   ],
   "source": [
    "dim=len(data.columns)\n",
    "dim"
   ]
  },
  {
   "cell_type": "code",
   "execution_count": 61,
   "id": "f1fb843d-8e4d-449c-a6e0-61d011b55eb7",
   "metadata": {},
   "outputs": [
    {
     "data": {
      "text/plain": [
       "array([[8.73012016, 0.61084764],\n",
       "       [1.32384427, 1.76151493],\n",
       "       [0.89593887, 0.75349953]])"
      ]
     },
     "execution_count": 61,
     "metadata": {},
     "output_type": "execute_result"
    }
   ],
   "source": [
    "np.array(data.sample(k))\n"
   ]
  },
  {
   "cell_type": "code",
   "execution_count": 9,
   "id": "928414a6-4916-4608-9c31-a1070157cb31",
   "metadata": {},
   "outputs": [],
   "source": []
  },
  {
   "cell_type": "code",
   "execution_count": null,
   "id": "e927191d-36f3-4826-8d60-10877d59d476",
   "metadata": {},
   "outputs": [],
   "source": []
  },
  {
   "cell_type": "code",
   "execution_count": null,
   "id": "ef833771-cc74-4c1b-95fd-63ce1710c99c",
   "metadata": {},
   "outputs": [],
   "source": []
  },
  {
   "cell_type": "code",
   "execution_count": 182,
   "id": "18c2b7f1-b61d-4616-9d3e-01d6d17b3ad5",
   "metadata": {},
   "outputs": [
    {
     "name": "stdout",
     "output_type": "stream",
     "text": [
      "[[2.99794321 2.99614288]\n",
      " [9.02021444 1.76075352]\n",
      " [9.00214097 0.87556031]]\n"
     ]
    }
   ],
   "source": [
    "np.random.seed(45)\n",
    "def euclidean(point1,point2,dim):\n",
    "    distance=np.sqrt(np.sum((point1-point2)**2))\n",
    "    return distance\n",
    "    \n",
    "\n",
    "centroids=np.array(data.sample(k),dtype='float64')\n",
    "def add_clusters(centroids):\n",
    "    clusters = [[] for _ in range(k)]  # Start with an empty list for each cluster\n",
    "    for i in range(n_rows):\n",
    "        row = data.iloc[i].to_numpy()  # Convert row to a NumPy array\n",
    "        dist = float('inf')\n",
    "        clust = -1\n",
    "        for j in range(len(centroids)):\n",
    "            d = euclidean(centroids[j], row, dim)\n",
    "            if d <= dist:\n",
    "                dist = d\n",
    "                clusterIndex = j\n",
    "        clusters[clusterIndex].append(row)  # Append the row to the correct cluster\n",
    "\n",
    "    # Convert each cluster to a NumPy array\n",
    "    clusters = [np.array(cluster,dtype='float64') for cluster in clusters]\n",
    "    \n",
    "    return clusters\n",
    "\n",
    "def update_centroids(clusters):\n",
    "    new_centroids=np.copy(centroids)\n",
    "    for i in range(len(clusters)):\n",
    "        new_centroids[i] = np.average(np.array(clusters[i], dtype=float), axis=0)\n",
    "    return new_centroids\n",
    "\n",
    "new_centroids = np.array([[float('inf')] * dim for _ in range(k)], dtype='float64')\n",
    "max_iter=1000\n",
    "while not np.allclose(new_centroids, centroids) and max_iter>0:\n",
    "    clusters=add_clusters(centroids)\n",
    "    new_centroids=update_centroids(clusters)\n",
    "    centroids=new_centroids\n",
    "    max_iter-=1\n",
    "\n",
    "print(centroids)\n"
   ]
  },
  {
   "cell_type": "code",
   "execution_count": 187,
   "id": "1bdadf5d-2f56-4d61-aae4-04c613100b26",
   "metadata": {},
   "outputs": [
    {
     "name": "stdout",
     "output_type": "stream",
     "text": [
      "Final Centroids:\n",
      "[[2.99794321 2.99614288]\n",
      " [9.02021444 1.76075352]\n",
      " [9.00214097 0.87556031]]\n"
     ]
    }
   ],
   "source": [
    "import numpy as np\n",
    "import pandas as pd\n",
    "\n",
    "class KMeans:\n",
    "    def __init__(self, k, max_iter=5000, random_state=None):\n",
    "        self.k = k  # Number of clusters\n",
    "        self.max_iter = max_iter  # Maximum number of iterations\n",
    "        self.centroids = None  # Centroids of clusters\n",
    "        if random_state is not None:\n",
    "            np.random.seed(random_state)  # Set seed for reproducibility\n",
    "\n",
    "    def fit(self, data):\n",
    "        # Randomly initialize centroids from the data\n",
    "        self.centroids = np.array(data.sample(self.k), dtype='float64')\n",
    "        self.n_rows, self.dim = data.shape\n",
    "\n",
    "        new_centroids = np.array([[float('inf')] * dim for _ in range(self.k)], dtype='float64')\n",
    "        \n",
    "        while not np.allclose(new_centroids, self.centroids) and self.max_iter > 0:\n",
    "            clusters = self._add_clusters(data)\n",
    "            new_centroids = self._update_centroids(clusters)\n",
    "            self.centroids = new_centroids\n",
    "            self.max_iter -= 1\n",
    "\n",
    "    def _euclidean(self, point1, point2):\n",
    "        distance = np.sqrt(np.sum((point1 - point2) ** 2))\n",
    "        return distance\n",
    "\n",
    "    def _add_clusters(self, data):\n",
    "        clusters = [[] for _ in range(self.k)]  # Start with an empty list for each cluster\n",
    "        \n",
    "        for i in range(n_rows):\n",
    "            row_point = data.iloc[i].to_numpy()  # Convert row to a NumPy array\n",
    "            distance_from_closest_centroid = float('inf')\n",
    "            cluster_index = -1\n",
    "            \n",
    "            for j in range(len(self.centroids)):\n",
    "                current_dist = self._euclidean(self.centroids[j], row_point)\n",
    "                if current_dist<= distance_from_closest_centroid:\n",
    "                    distance_from_closest_centroid = current_dist\n",
    "                    cluster_index = j\n",
    "            clusters[cluster_index].append(row)  # Append the row to the correct cluster\n",
    "        \n",
    "        # Convert each cluster to a NumPy array\n",
    "        return [np.array(cluster, dtype='float64') for cluster in clusters]\n",
    "\n",
    "    def _update_centroids(self, clusters):\n",
    "        new_centroids = np.copy(self.centroids)\n",
    "        for i in range(len(clusters)):\n",
    "            new_centroids[i] = np.average(np.array(clusters[i], dtype=float), axis=0)\n",
    "        return new_centroids\n",
    "\n",
    "    def get_centroids(self):\n",
    "        return self.centroids\n",
    "\n",
    "# Example usage:\n",
    "# Assuming `data` is a DataFrame containing your dataset\n",
    "# data = pd.DataFrame(...)  # Your dataset\n",
    "k = 3  # Number of clusters\n",
    "kmeans = KMeans(k=k, random_state=45)\n",
    "kmeans.fit(data)  # Fit the model to the data\n",
    "\n",
    "print(\"Final Centroids:\")\n",
    "print(kmeans.get_centroids())\n"
   ]
  },
  {
   "cell_type": "code",
   "execution_count": 190,
   "id": "bac7eac4-a7a3-408d-bdb9-5f5a56f85664",
   "metadata": {},
   "outputs": [
    {
     "name": "stdout",
     "output_type": "stream",
     "text": [
      "Final Centroids:\n",
      "[[2.99794321 2.99614288]\n",
      " [9.02021444 1.76075352]\n",
      " [9.00214097 0.87556031]]\n"
     ]
    }
   ],
   "source": [
    "import numpy as np\n",
    "import pandas as pd\n",
    "\n",
    "class KMeans:\n",
    "    \"\"\"\n",
    "    A K-means clustering implementation.\n",
    "\n",
    "    Attributes:\n",
    "        k (int): The number of clusters.\n",
    "        max_iter (int): The maximum number of iterations to run the algorithm.\n",
    "        centroids (numpy.ndarray): The centroids of the clusters.\n",
    "    \"\"\"\n",
    "    \n",
    "    def __init__(self, k, max_iter=5000, random_state=None):\n",
    "        \"\"\"\n",
    "        Initializes the KMeans instance with specified parameters.\n",
    "\n",
    "        Args:\n",
    "            k (int): The number of clusters.\n",
    "            max_iter (int): The maximum number of iterations (default is 5000).\n",
    "            random_state (int, optional): Seed for random number generation for reproducibility.\n",
    "        \"\"\"\n",
    "        self.k = k  # Number of clusters\n",
    "        self.max_iter = max_iter  # Maximum number of iterations\n",
    "        self.centroids = None  # Centroids of clusters\n",
    "        if random_state is not None:\n",
    "            np.random.seed(random_state)  # Set seed for reproducibility\n",
    "\n",
    "    def fit(self, data):\n",
    "        \"\"\"\n",
    "        Fits the KMeans model to the data.\n",
    "\n",
    "        Args:\n",
    "            data (pandas.DataFrame): The input data for clustering.\n",
    "        \"\"\"\n",
    "        #Dropping the missing values\n",
    "        data.dropna()\n",
    "        # Randomly initialize centroids from the data\n",
    "        \n",
    "        \n",
    "        self.centroids = np.array(data.sample(self.k), dtype='float64')\n",
    "        self.n_rows, self.dim = data.shape\n",
    "\n",
    "        # Initialize new_centroids to a large value for comparison\n",
    "        new_centroids = np.array([[float('inf')] * self.dim for _ in range(self.k)], dtype='float64')\n",
    "        \n",
    "        # Iterate until convergence or maximum iterations\n",
    "        while not np.allclose(new_centroids, self.centroids) and self.max_iter > 0:\n",
    "            clusters = self._add_clusters(data)  # Assign clusters\n",
    "            new_centroids = self._update_centroids(clusters)  # Update centroids\n",
    "            self.centroids = new_centroids  # Update centroids for next iteration\n",
    "            self.max_iter -= 1  # Decrease the iteration count\n",
    "\n",
    "    def _euclidean(self, point1, point2):\n",
    "        \"\"\"\n",
    "        Calculates the Euclidean distance between two points.\n",
    "\n",
    "        Args:\n",
    "            point1 (numpy.ndarray): The first point.\n",
    "            point2 (numpy.ndarray): The second point.\n",
    "\n",
    "        Returns:\n",
    "            float: The Euclidean distance between the two points.\n",
    "        \"\"\"\n",
    "        distance = np.sqrt(np.sum((point1 - point2) ** 2))\n",
    "        return distance\n",
    "\n",
    "    def _add_clusters(self, data):\n",
    "        \"\"\"\n",
    "        Assigns data points to the nearest centroid.\n",
    "\n",
    "        Args:\n",
    "            data (pandas.DataFrame): The input data for clustering.\n",
    "\n",
    "        Returns:\n",
    "            list: A list of clusters, where each cluster is a numpy array of points.\n",
    "        \"\"\"\n",
    "        clusters = [[] for _ in range(self.k)]  # Start with an empty list for each cluster\n",
    "        \n",
    "        for i in range(self.n_rows):\n",
    "            row_point = data.iloc[i].to_numpy()  # Convert row to a NumPy array\n",
    "            distance_from_closest_centroid = float('inf')\n",
    "            cluster_index = -1\n",
    "            \n",
    "            for j in range(len(self.centroids)):\n",
    "                current_dist = self._euclidean(self.centroids[j], row_point)  # Calculate distance to centroid\n",
    "                if current_dist <= distance_from_closest_centroid:\n",
    "                    distance_from_closest_centroid = current_dist\n",
    "                    cluster_index = j  # Update the closest cluster index\n",
    "            \n",
    "            clusters[cluster_index].append(row_point)  # Append the row to the correct cluster\n",
    "        \n",
    "        # Convert each cluster to a NumPy array\n",
    "        return [np.array(cluster, dtype='float64') for cluster in clusters]\n",
    "\n",
    "    def _update_centroids(self, clusters):\n",
    "        \"\"\"\n",
    "        Updates the centroids of the clusters based on the current clusters.\n",
    "\n",
    "        Args:\n",
    "            clusters (list): The current clusters.\n",
    "\n",
    "        Returns:\n",
    "            numpy.ndarray: The updated centroids.\n",
    "        \"\"\"\n",
    "        new_centroids = np.copy(self.centroids)\n",
    "        for i in range(len(clusters)):\n",
    "            if len(clusters[i]) > 0:  # Check to avoid empty clusters\n",
    "                new_centroids[i] = np.average(np.array(clusters[i], dtype=float), axis=0)\n",
    "        return new_centroids\n",
    "\n",
    "    def get_centroids(self):\n",
    "        \"\"\"\n",
    "        Returns the final centroids after fitting.\n",
    "\n",
    "        Returns:\n",
    "            numpy.ndarray: The centroids of the clusters.\n",
    "        \"\"\"\n",
    "        return self.centroids\n",
    "\n",
    "# Example usage:\n",
    "# Assuming `data` is a DataFrame containing your dataset\n",
    "# data = pd.DataFrame(...)  # Your dataset\n",
    "k = 3  # Number of clusters\n",
    "kmeans = KMeans(k=k, random_state=45)\n",
    "kmeans.fit(data)  # Fit the model to the data\n",
    "\n",
    "print(\"Final Centroids:\")\n",
    "print(kmeans.get_centroids())\n"
   ]
  }
 ],
 "metadata": {
  "kernelspec": {
   "display_name": "Python 3 (ipykernel)",
   "language": "python",
   "name": "python3"
  },
  "language_info": {
   "codemirror_mode": {
    "name": "ipython",
    "version": 3
   },
   "file_extension": ".py",
   "mimetype": "text/x-python",
   "name": "python",
   "nbconvert_exporter": "python",
   "pygments_lexer": "ipython3",
   "version": "3.11.6"
  }
 },
 "nbformat": 4,
 "nbformat_minor": 5
}
