{
 "cells": [
  {
   "cell_type": "code",
   "execution_count": 2,
   "id": "0ae3fab0-126b-41b2-a55f-1dfaaf7f7eae",
   "metadata": {},
   "outputs": [],
   "source": [
    "import numpy as np\n",
    "import pandas as pd\n",
    "import matplotlib as plt\n",
    "import seaborn as sns\n",
    "import warnings\n",
    "warnings.filterwarnings(\"ignore\")"
   ]
  },
  {
   "cell_type": "code",
   "execution_count": 4,
   "id": "42906e86-0065-4ba4-9372-82c346fe33b6",
   "metadata": {},
   "outputs": [],
   "source": [
    "data=pd.read_csv(\"data\\Transformed_data.csv\")"
   ]
  },
  {
   "cell_type": "code",
   "execution_count": 6,
   "id": "a16841de-61ed-4c86-88e0-78de28004123",
   "metadata": {},
   "outputs": [
    {
     "data": {
      "text/html": [
       "<div>\n",
       "<style scoped>\n",
       "    .dataframe tbody tr th:only-of-type {\n",
       "        vertical-align: middle;\n",
       "    }\n",
       "\n",
       "    .dataframe tbody tr th {\n",
       "        vertical-align: top;\n",
       "    }\n",
       "\n",
       "    .dataframe thead th {\n",
       "        text-align: right;\n",
       "    }\n",
       "</style>\n",
       "<table border=\"1\" class=\"dataframe\">\n",
       "  <thead>\n",
       "    <tr style=\"text-align: right;\">\n",
       "      <th></th>\n",
       "      <th>ID</th>\n",
       "      <th>Age</th>\n",
       "      <th>Income</th>\n",
       "      <th>Student</th>\n",
       "      <th>Credit-rating</th>\n",
       "      <th>buys computer</th>\n",
       "    </tr>\n",
       "  </thead>\n",
       "  <tbody>\n",
       "    <tr>\n",
       "      <th>0</th>\n",
       "      <td>1</td>\n",
       "      <td>young</td>\n",
       "      <td>high</td>\n",
       "      <td>no</td>\n",
       "      <td>fair</td>\n",
       "      <td>no</td>\n",
       "    </tr>\n",
       "    <tr>\n",
       "      <th>1</th>\n",
       "      <td>2</td>\n",
       "      <td>young</td>\n",
       "      <td>high</td>\n",
       "      <td>no</td>\n",
       "      <td>good</td>\n",
       "      <td>no</td>\n",
       "    </tr>\n",
       "    <tr>\n",
       "      <th>2</th>\n",
       "      <td>3</td>\n",
       "      <td>middle</td>\n",
       "      <td>high</td>\n",
       "      <td>no</td>\n",
       "      <td>fair</td>\n",
       "      <td>yes</td>\n",
       "    </tr>\n",
       "    <tr>\n",
       "      <th>3</th>\n",
       "      <td>4</td>\n",
       "      <td>old</td>\n",
       "      <td>medium</td>\n",
       "      <td>no</td>\n",
       "      <td>fair</td>\n",
       "      <td>yes</td>\n",
       "    </tr>\n",
       "    <tr>\n",
       "      <th>4</th>\n",
       "      <td>5</td>\n",
       "      <td>old</td>\n",
       "      <td>medium</td>\n",
       "      <td>no</td>\n",
       "      <td>fair</td>\n",
       "      <td>yes</td>\n",
       "    </tr>\n",
       "  </tbody>\n",
       "</table>\n",
       "</div>"
      ],
      "text/plain": [
       "   ID     Age  Income Student Credit-rating buys computer\n",
       "0   1   young    high      no          fair            no\n",
       "1   2   young    high      no          good            no\n",
       "2   3  middle    high      no          fair           yes\n",
       "3   4     old  medium      no          fair           yes\n",
       "4   5     old  medium      no          fair           yes"
      ]
     },
     "execution_count": 6,
     "metadata": {},
     "output_type": "execute_result"
    }
   ],
   "source": [
    "data.head()"
   ]
  },
  {
   "cell_type": "code",
   "execution_count": 12,
   "id": "79f7caa6-ab50-4b92-afa5-10766277da6d",
   "metadata": {},
   "outputs": [
    {
     "data": {
      "text/html": [
       "<div>\n",
       "<style scoped>\n",
       "    .dataframe tbody tr th:only-of-type {\n",
       "        vertical-align: middle;\n",
       "    }\n",
       "\n",
       "    .dataframe tbody tr th {\n",
       "        vertical-align: top;\n",
       "    }\n",
       "\n",
       "    .dataframe thead th {\n",
       "        text-align: right;\n",
       "    }\n",
       "</style>\n",
       "<table border=\"1\" class=\"dataframe\">\n",
       "  <thead>\n",
       "    <tr style=\"text-align: right;\">\n",
       "      <th></th>\n",
       "      <th>id</th>\n",
       "      <th>age</th>\n",
       "      <th>income</th>\n",
       "      <th>student</th>\n",
       "      <th>credit-rating</th>\n",
       "      <th>buys_computer</th>\n",
       "    </tr>\n",
       "  </thead>\n",
       "  <tbody>\n",
       "    <tr>\n",
       "      <th>0</th>\n",
       "      <td>1</td>\n",
       "      <td>young</td>\n",
       "      <td>high</td>\n",
       "      <td>no</td>\n",
       "      <td>fair</td>\n",
       "      <td>no</td>\n",
       "    </tr>\n",
       "    <tr>\n",
       "      <th>1</th>\n",
       "      <td>2</td>\n",
       "      <td>young</td>\n",
       "      <td>high</td>\n",
       "      <td>no</td>\n",
       "      <td>good</td>\n",
       "      <td>no</td>\n",
       "    </tr>\n",
       "    <tr>\n",
       "      <th>2</th>\n",
       "      <td>3</td>\n",
       "      <td>middle</td>\n",
       "      <td>high</td>\n",
       "      <td>no</td>\n",
       "      <td>fair</td>\n",
       "      <td>yes</td>\n",
       "    </tr>\n",
       "    <tr>\n",
       "      <th>3</th>\n",
       "      <td>4</td>\n",
       "      <td>old</td>\n",
       "      <td>medium</td>\n",
       "      <td>no</td>\n",
       "      <td>fair</td>\n",
       "      <td>yes</td>\n",
       "    </tr>\n",
       "    <tr>\n",
       "      <th>4</th>\n",
       "      <td>5</td>\n",
       "      <td>old</td>\n",
       "      <td>medium</td>\n",
       "      <td>no</td>\n",
       "      <td>fair</td>\n",
       "      <td>yes</td>\n",
       "    </tr>\n",
       "  </tbody>\n",
       "</table>\n",
       "</div>"
      ],
      "text/plain": [
       "   id     age  income student credit-rating buys_computer\n",
       "0   1   young    high      no          fair            no\n",
       "1   2   young    high      no          good            no\n",
       "2   3  middle    high      no          fair           yes\n",
       "3   4     old  medium      no          fair           yes\n",
       "4   5     old  medium      no          fair           yes"
      ]
     },
     "execution_count": 12,
     "metadata": {},
     "output_type": "execute_result"
    }
   ],
   "source": [
    "data.columns=[column.replace(\" \",\"_\").lower() for column in data.columns]\n",
    "data.head()"
   ]
  },
  {
   "cell_type": "code",
   "execution_count": 14,
   "id": "81f20183-2613-4caf-92f7-993fc7f27fff",
   "metadata": {},
   "outputs": [
    {
     "data": {
      "text/plain": [
       "(14, 6)"
      ]
     },
     "execution_count": 14,
     "metadata": {},
     "output_type": "execute_result"
    }
   ],
   "source": [
    "data.shape\n"
   ]
  },
  {
   "cell_type": "code",
   "execution_count": 15,
   "id": "eec75162-9114-4c2a-aed8-5c1997dc3926",
   "metadata": {},
   "outputs": [
    {
     "data": {
      "text/plain": [
       "14"
      ]
     },
     "execution_count": 15,
     "metadata": {},
     "output_type": "execute_result"
    }
   ],
   "source": [
    "len(data)"
   ]
  },
  {
   "cell_type": "code",
   "execution_count": 16,
   "id": "8b183b4a-2857-40b2-a35c-19160545819d",
   "metadata": {},
   "outputs": [
    {
     "data": {
      "text/plain": [
       "Index(['id', 'age', 'income', 'student', 'credit-rating', 'buys_computer'], dtype='object')"
      ]
     },
     "execution_count": 16,
     "metadata": {},
     "output_type": "execute_result"
    }
   ],
   "source": [
    "data.columns"
   ]
  },
  {
   "cell_type": "code",
   "execution_count": 17,
   "id": "acbbcac2-56f9-440a-ba6b-3ba2f3afa613",
   "metadata": {},
   "outputs": [
    {
     "data": {
      "text/plain": [
       "id               14\n",
       "age               3\n",
       "income            3\n",
       "student           2\n",
       "credit-rating     2\n",
       "buys_computer     2\n",
       "dtype: int64"
      ]
     },
     "execution_count": 17,
     "metadata": {},
     "output_type": "execute_result"
    }
   ],
   "source": [
    "data.nunique()"
   ]
  },
  {
   "cell_type": "code",
   "execution_count": 22,
   "id": "4bba6d74-bda1-4cbf-8f1c-86b93e72986d",
   "metadata": {},
   "outputs": [
    {
     "data": {
      "text/plain": [
       "id                int64\n",
       "age              object\n",
       "income           object\n",
       "student          object\n",
       "credit-rating    object\n",
       "buys_computer    object\n",
       "dtype: object"
      ]
     },
     "execution_count": 22,
     "metadata": {},
     "output_type": "execute_result"
    }
   ],
   "source": [
    "#Data Types of columns\n",
    "data.dtypes\n"
   ]
  },
  {
   "cell_type": "code",
   "execution_count": 34,
   "id": "3b0e9496-702f-49c4-a60a-b13ddfd68edf",
   "metadata": {},
   "outputs": [],
   "source": [
    "#Changing the data type of the dataframe to string for easy compatibility\n",
    "data=data.astype(\"string\")"
   ]
  },
  {
   "cell_type": "code",
   "execution_count": 32,
   "id": "b5349aea-2d42-4115-92ba-01aad46d8a97",
   "metadata": {},
   "outputs": [
    {
     "data": {
      "text/plain": [
       "id               string[python]\n",
       "age              string[python]\n",
       "income           string[python]\n",
       "student          string[python]\n",
       "credit-rating    string[python]\n",
       "buys_computer    string[python]\n",
       "dtype: object"
      ]
     },
     "execution_count": 32,
     "metadata": {},
     "output_type": "execute_result"
    }
   ],
   "source": [
    "data.dtypes"
   ]
  },
  {
   "cell_type": "code",
   "execution_count": 37,
   "id": "509ba6ed-87b2-46c6-a947-e4d701f5cf49",
   "metadata": {},
   "outputs": [],
   "source": [
    "#Combinations for each columns\n"
   ]
  },
  {
   "cell_type": "code",
   "execution_count": 38,
   "id": "6fa901a2-9522-457e-b857-b25697759124",
   "metadata": {},
   "outputs": [],
   "source": [
    "#Excluding the ID column"
   ]
  },
  {
   "cell_type": "code",
   "execution_count": 44,
   "id": "e20b206d-023d-4658-b8f5-73c1b4786a5a",
   "metadata": {},
   "outputs": [],
   "source": [
    "data=data.drop('id',axis=1)"
   ]
  },
  {
   "cell_type": "code",
   "execution_count": 58,
   "id": "7f4c42d0-a56d-4890-b912-5d060d1c2706",
   "metadata": {},
   "outputs": [
    {
     "name": "stdout",
     "output_type": "stream",
     "text": [
      "{'age': ['young', 'middle', 'old'], 'income': ['high', 'medium', 'low'], 'student': ['no', 'yes'], 'credit-rating': ['fair', 'good'], 'buys_computer': ['no', 'yes']}\n"
     ]
    }
   ],
   "source": [
    "#Unique values of each columns\n",
    "uniq={}\n",
    "vals=[list(data[i].unique()) for i in data.columns]\n",
    "cols=data.columns\n",
    "uniq=dict(zip(cols,vals))\n",
    "print(uniq)"
   ]
  },
  {
   "cell_type": "code",
   "execution_count": 77,
   "id": "a8ab8560-53bf-4465-ab40-315957f52a64",
   "metadata": {},
   "outputs": [
    {
     "data": {
      "text/plain": [
       "['ad', 'adsd']"
      ]
     },
     "execution_count": 77,
     "metadata": {},
     "output_type": "execute_result"
    }
   ],
   "source": [
    "'''void combine(string st, int j, int size,string s,vector<string> &res)\n",
    "{\n",
    "    int len=st.length();\n",
    "    if(j==len)\n",
    "    {\n",
    "        //if(s.length()==size)\n",
    "            res.push_back(s);\n",
    "        return;\n",
    "    }\n",
    "\n",
    "    /*if(s.length()==size)\n",
    "    {\n",
    "        res.push_back(s);\n",
    "    }*/\n",
    "    combine(st,j+1,size,s,res);\n",
    "    combine(st,j+1,size,s+st[j],res);\n",
    "\n",
    "}\n",
    "int main()\n",
    "{\n",
    "    vector<string> res;\n",
    "    string s=\"abcd\";\n",
    "    combine(s,0,2,\"\",res);\n",
    "    for(auto x:res)\n",
    "        cout<<x<<\" \";\n",
    "    return 0;\n",
    "}\n",
    "'''\n",
    "[\"ad\"]+[\"adsd\"]"
   ]
  },
  {
   "cell_type": "code",
   "execution_count": 102,
   "id": "fa20028a-6366-47a9-aa7c-14420598825c",
   "metadata": {},
   "outputs": [
    {
     "data": {
      "text/plain": [
       "{'age': {1: [['old'], ['middle'], ['young']],\n",
       "  2: [['middle', 'old'], ['young', 'old'], ['young', 'middle']],\n",
       "  3: [['young', 'middle', 'old']]},\n",
       " 'income': {1: [['low'], ['medium'], ['high']],\n",
       "  2: [['medium', 'low'], ['high', 'low'], ['high', 'medium']],\n",
       "  3: [['high', 'medium', 'low']]},\n",
       " 'student': {1: [['yes'], ['no']], 2: [['no', 'yes']]},\n",
       " 'credit-rating': {1: [['good'], ['fair']], 2: [['fair', 'good']]},\n",
       " 'buys_computer': {1: [['yes'], ['no']], 2: [['no', 'yes']]}}"
      ]
     },
     "execution_count": 102,
     "metadata": {},
     "output_type": "execute_result"
    }
   ],
   "source": [
    "def combine(li,data_dict,temp=[],j=0):\n",
    "    l=len(li)\n",
    "    if(j==l):\n",
    "        data_dict[len(temp)].append(temp)\n",
    "        return\n",
    "    combine(li,data_dict,temp,j+1)\n",
    "    combine(li,data_dict,temp+[li[j]],j+1)\n",
    "\n",
    "data_dict={}\n",
    "for i in uniq.keys():\n",
    "    li=uniq[i]\n",
    "    #print(uniq[i])\n",
    "    keys=list(range(0,len(li)+1))\n",
    "    dic={}\n",
    "    for j in keys:\n",
    "        dic[j]=[]\n",
    "    \n",
    "    combine(li,dic)\n",
    "    del(dic[0])\n",
    "    data_dict[i]=dic\n",
    "data_dict"
   ]
  },
  {
   "cell_type": "code",
   "execution_count": 85,
   "id": "fda4d954-b663-4196-b446-3118720d7b40",
   "metadata": {},
   "outputs": [
    {
     "data": {
      "text/plain": [
       "{1: [['old'], ['middle'], ['young']],\n",
       " 2: [['middle', 'old'], ['young', 'old'], ['young', 'middle']],\n",
       " 3: [['young', 'middle', 'old']]}"
      ]
     },
     "execution_count": 85,
     "metadata": {},
     "output_type": "execute_result"
    }
   ],
   "source": [
    "data_dict"
   ]
  }
 ],
 "metadata": {
  "kernelspec": {
   "display_name": "Python 3 (ipykernel)",
   "language": "python",
   "name": "python3"
  },
  "language_info": {
   "codemirror_mode": {
    "name": "ipython",
    "version": 3
   },
   "file_extension": ".py",
   "mimetype": "text/x-python",
   "name": "python",
   "nbconvert_exporter": "python",
   "pygments_lexer": "ipython3",
   "version": "3.11.6"
  }
 },
 "nbformat": 4,
 "nbformat_minor": 5
}
