{
 "cells": [
  {
   "cell_type": "code",
   "execution_count": 15,
   "id": "212a7493-6860-4fb7-aa74-0d4b7bd7d5f6",
   "metadata": {},
   "outputs": [
    {
     "data": {
      "text/plain": [
       "'ID\\tAge\\tIncome\\tStudent\\tCredit-rating\\tbuys computer\\n1\\tyoung\\thigh\\tno\\tfair\\tno\\n2\\tyoung\\thigh\\tno\\tgood\\tno\\n3\\tmiddle\\thigh\\tno\\tfair\\tyes\\n4\\told\\tmedium\\tno\\tfair\\tyes\\n5\\told\\tmedium\\tno\\tfair\\tyes\\n6\\told\\tlow\\tyes\\tgood\\tno\\n7\\tmiddle\\tlow\\tyes\\tgood\\tyes\\n8\\tyoung\\tmedium\\tno\\tfair\\tyes\\n9\\tyoung\\tlow\\tyes\\tfair\\tyes\\n10\\told\\tmedium\\tyes\\tfair\\tyes\\n11\\tyoung\\tmedium\\tyes\\tfair\\tyes\\n12\\tmiddle\\tmedium\\tno\\tgood\\tyes\\n13\\tmiddle\\thigh\\tyes\\tfair\\tyes\\n14\\told\\tmedium\\tno\\tgood\\tno'"
      ]
     },
     "execution_count": 15,
     "metadata": {},
     "output_type": "execute_result"
    }
   ],
   "source": [
    "file=open(\"data\\data_raw.txt\",\"r\")\n",
    "file.read()"
   ]
  },
  {
   "cell_type": "code",
   "execution_count": 19,
   "id": "d775bb8b-a42e-44d8-8007-28a49f0d5e64",
   "metadata": {},
   "outputs": [
    {
     "data": {
      "text/plain": [
       "['ID\\tAge\\tIncome\\tStudent\\tCredit-rating\\tbuys computer\\n',\n",
       " '1\\tyoung\\thigh\\tno\\tfair\\tno\\n',\n",
       " '2\\tyoung\\thigh\\tno\\tgood\\tno\\n',\n",
       " '3\\tmiddle\\thigh\\tno\\tfair\\tyes\\n',\n",
       " '4\\told\\tmedium\\tno\\tfair\\tyes\\n',\n",
       " '5\\told\\tmedium\\tno\\tfair\\tyes\\n',\n",
       " '6\\told\\tlow\\tyes\\tgood\\tno\\n',\n",
       " '7\\tmiddle\\tlow\\tyes\\tgood\\tyes\\n',\n",
       " '8\\tyoung\\tmedium\\tno\\tfair\\tyes\\n',\n",
       " '9\\tyoung\\tlow\\tyes\\tfair\\tyes\\n',\n",
       " '10\\told\\tmedium\\tyes\\tfair\\tyes\\n',\n",
       " '11\\tyoung\\tmedium\\tyes\\tfair\\tyes\\n',\n",
       " '12\\tmiddle\\tmedium\\tno\\tgood\\tyes\\n',\n",
       " '13\\tmiddle\\thigh\\tyes\\tfair\\tyes\\n',\n",
       " '14\\told\\tmedium\\tno\\tgood\\tno']"
      ]
     },
     "execution_count": 19,
     "metadata": {},
     "output_type": "execute_result"
    }
   ],
   "source": [
    "file.seek(0)\n",
    "lines=file.readlines()\n",
    "lines\n"
   ]
  },
  {
   "cell_type": "code",
   "execution_count": 34,
   "id": "3a4911b6-bcd0-4aa7-a799-55a1149428f5",
   "metadata": {},
   "outputs": [
    {
     "name": "stdout",
     "output_type": "stream",
     "text": [
      "['ID,Age,Income,Student,Credit-rating,buys computer\\n', '1,young,high,no,fair,no\\n', '2,young,high,no,good,no\\n', '3,middle,high,no,fair,yes\\n', '4,old,medium,no,fair,yes\\n', '5,old,medium,no,fair,yes\\n', '6,old,low,yes,good,no\\n', '7,middle,low,yes,good,yes\\n', '8,young,medium,no,fair,yes\\n', '9,young,low,yes,fair,yes\\n', '10,old,medium,yes,fair,yes\\n', '11,young,medium,yes,fair,yes\\n', '12,middle,medium,no,good,yes\\n', '13,middle,high,yes,fair,yes\\n', '14,old,medium,no,good,no']\n"
     ]
    }
   ],
   "source": [
    "for i in range(len(lines)):\n",
    "    lines[i]=lines[i].replace(\"\\t\",\",\")\n",
    "print(lines)"
   ]
  },
  {
   "cell_type": "code",
   "execution_count": 42,
   "id": "29d33486-7c1c-410d-914a-3a72c730485e",
   "metadata": {},
   "outputs": [],
   "source": [
    "file2=open(\"data\\Transformed_data.csv\",\"w\")"
   ]
  },
  {
   "cell_type": "code",
   "execution_count": 43,
   "id": "12d6fb72-9efa-4777-a324-d004566bf389",
   "metadata": {},
   "outputs": [],
   "source": [
    "file2.writelines(lines)"
   ]
  },
  {
   "cell_type": "code",
   "execution_count": 44,
   "id": "626383bd-6da2-45f1-9fef-78d79941e2ee",
   "metadata": {},
   "outputs": [],
   "source": [
    "file.close()\n",
    "file2.close()"
   ]
  }
 ],
 "metadata": {
  "kernelspec": {
   "display_name": "Python 3 (ipykernel)",
   "language": "python",
   "name": "python3"
  },
  "language_info": {
   "codemirror_mode": {
    "name": "ipython",
    "version": 3
   },
   "file_extension": ".py",
   "mimetype": "text/x-python",
   "name": "python",
   "nbconvert_exporter": "python",
   "pygments_lexer": "ipython3",
   "version": "3.11.6"
  }
 },
 "nbformat": 4,
 "nbformat_minor": 5
}
