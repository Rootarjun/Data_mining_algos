{
 "cells": [
  {
   "cell_type": "code",
   "execution_count": 151,
   "id": "52e92279-478a-43e3-b8e3-d3ba7dda6ba9",
   "metadata": {},
   "outputs": [],
   "source": [
    "import numpy as np\n",
    "import pandas as pd\n",
    "import seaborn as sns\n",
    "import matplotlib.pyplot as plt\n",
    "import warnings\n",
    "import math\n",
    "warnings.filterwarnings(\"ignore\")"
   ]
  },
  {
   "cell_type": "code",
   "execution_count": null,
   "id": "2aeee3e4-909c-4c14-8283-f402aaa267ad",
   "metadata": {},
   "outputs": [],
   "source": []
  },
  {
   "cell_type": "code",
   "execution_count": 152,
   "id": "5efb2987-a1e4-44de-9380-9970c67d941e",
   "metadata": {},
   "outputs": [],
   "source": [
    "data=pd.read_csv(\"data\\Transformed_data.csv\")"
   ]
  },
  {
   "cell_type": "code",
   "execution_count": 153,
   "id": "fe63dd20-3175-46c7-a505-71653d93718f",
   "metadata": {},
   "outputs": [
    {
     "data": {
      "text/html": [
       "<div>\n",
       "<style scoped>\n",
       "    .dataframe tbody tr th:only-of-type {\n",
       "        vertical-align: middle;\n",
       "    }\n",
       "\n",
       "    .dataframe tbody tr th {\n",
       "        vertical-align: top;\n",
       "    }\n",
       "\n",
       "    .dataframe thead th {\n",
       "        text-align: right;\n",
       "    }\n",
       "</style>\n",
       "<table border=\"1\" class=\"dataframe\">\n",
       "  <thead>\n",
       "    <tr style=\"text-align: right;\">\n",
       "      <th></th>\n",
       "      <th>ID</th>\n",
       "      <th>Age</th>\n",
       "      <th>Income</th>\n",
       "      <th>Student</th>\n",
       "      <th>Credit-rating</th>\n",
       "      <th>buys computer</th>\n",
       "    </tr>\n",
       "  </thead>\n",
       "  <tbody>\n",
       "    <tr>\n",
       "      <th>0</th>\n",
       "      <td>1</td>\n",
       "      <td>young</td>\n",
       "      <td>high</td>\n",
       "      <td>no</td>\n",
       "      <td>fair</td>\n",
       "      <td>no</td>\n",
       "    </tr>\n",
       "    <tr>\n",
       "      <th>1</th>\n",
       "      <td>2</td>\n",
       "      <td>young</td>\n",
       "      <td>high</td>\n",
       "      <td>no</td>\n",
       "      <td>good</td>\n",
       "      <td>no</td>\n",
       "    </tr>\n",
       "    <tr>\n",
       "      <th>2</th>\n",
       "      <td>3</td>\n",
       "      <td>middle</td>\n",
       "      <td>high</td>\n",
       "      <td>no</td>\n",
       "      <td>fair</td>\n",
       "      <td>yes</td>\n",
       "    </tr>\n",
       "    <tr>\n",
       "      <th>3</th>\n",
       "      <td>4</td>\n",
       "      <td>old</td>\n",
       "      <td>medium</td>\n",
       "      <td>no</td>\n",
       "      <td>fair</td>\n",
       "      <td>yes</td>\n",
       "    </tr>\n",
       "    <tr>\n",
       "      <th>4</th>\n",
       "      <td>5</td>\n",
       "      <td>old</td>\n",
       "      <td>low</td>\n",
       "      <td>yes</td>\n",
       "      <td>fair</td>\n",
       "      <td>yes</td>\n",
       "    </tr>\n",
       "  </tbody>\n",
       "</table>\n",
       "</div>"
      ],
      "text/plain": [
       "   ID     Age  Income Student Credit-rating buys computer\n",
       "0   1   young    high      no          fair            no\n",
       "1   2   young    high      no          good            no\n",
       "2   3  middle    high      no          fair           yes\n",
       "3   4     old  medium      no          fair           yes\n",
       "4   5     old     low     yes          fair           yes"
      ]
     },
     "execution_count": 153,
     "metadata": {},
     "output_type": "execute_result"
    }
   ],
   "source": [
    "data.head()\n"
   ]
  },
  {
   "cell_type": "code",
   "execution_count": 154,
   "id": "67ad2a2f-3f77-49fe-9b3a-6d8f3581509b",
   "metadata": {},
   "outputs": [
    {
     "data": {
      "text/html": [
       "<div>\n",
       "<style scoped>\n",
       "    .dataframe tbody tr th:only-of-type {\n",
       "        vertical-align: middle;\n",
       "    }\n",
       "\n",
       "    .dataframe tbody tr th {\n",
       "        vertical-align: top;\n",
       "    }\n",
       "\n",
       "    .dataframe thead th {\n",
       "        text-align: right;\n",
       "    }\n",
       "</style>\n",
       "<table border=\"1\" class=\"dataframe\">\n",
       "  <thead>\n",
       "    <tr style=\"text-align: right;\">\n",
       "      <th></th>\n",
       "      <th>id</th>\n",
       "      <th>age</th>\n",
       "      <th>income</th>\n",
       "      <th>student</th>\n",
       "      <th>credit-rating</th>\n",
       "      <th>buys_computer</th>\n",
       "    </tr>\n",
       "  </thead>\n",
       "  <tbody>\n",
       "    <tr>\n",
       "      <th>0</th>\n",
       "      <td>1</td>\n",
       "      <td>young</td>\n",
       "      <td>high</td>\n",
       "      <td>no</td>\n",
       "      <td>fair</td>\n",
       "      <td>no</td>\n",
       "    </tr>\n",
       "    <tr>\n",
       "      <th>1</th>\n",
       "      <td>2</td>\n",
       "      <td>young</td>\n",
       "      <td>high</td>\n",
       "      <td>no</td>\n",
       "      <td>good</td>\n",
       "      <td>no</td>\n",
       "    </tr>\n",
       "    <tr>\n",
       "      <th>2</th>\n",
       "      <td>3</td>\n",
       "      <td>middle</td>\n",
       "      <td>high</td>\n",
       "      <td>no</td>\n",
       "      <td>fair</td>\n",
       "      <td>yes</td>\n",
       "    </tr>\n",
       "    <tr>\n",
       "      <th>3</th>\n",
       "      <td>4</td>\n",
       "      <td>old</td>\n",
       "      <td>medium</td>\n",
       "      <td>no</td>\n",
       "      <td>fair</td>\n",
       "      <td>yes</td>\n",
       "    </tr>\n",
       "    <tr>\n",
       "      <th>4</th>\n",
       "      <td>5</td>\n",
       "      <td>old</td>\n",
       "      <td>low</td>\n",
       "      <td>yes</td>\n",
       "      <td>fair</td>\n",
       "      <td>yes</td>\n",
       "    </tr>\n",
       "  </tbody>\n",
       "</table>\n",
       "</div>"
      ],
      "text/plain": [
       "   id     age  income student credit-rating buys_computer\n",
       "0   1   young    high      no          fair            no\n",
       "1   2   young    high      no          good            no\n",
       "2   3  middle    high      no          fair           yes\n",
       "3   4     old  medium      no          fair           yes\n",
       "4   5     old     low     yes          fair           yes"
      ]
     },
     "execution_count": 154,
     "metadata": {},
     "output_type": "execute_result"
    }
   ],
   "source": [
    "data.columns=[column.replace(\" \",\"_\").lower() for column in data.columns]\n",
    "data.head()"
   ]
  },
  {
   "cell_type": "code",
   "execution_count": 155,
   "id": "aa8de9f4-9e67-455c-9f08-2bf26e8cc833",
   "metadata": {},
   "outputs": [
    {
     "data": {
      "text/html": [
       "<div>\n",
       "<style scoped>\n",
       "    .dataframe tbody tr th:only-of-type {\n",
       "        vertical-align: middle;\n",
       "    }\n",
       "\n",
       "    .dataframe tbody tr th {\n",
       "        vertical-align: top;\n",
       "    }\n",
       "\n",
       "    .dataframe thead th {\n",
       "        text-align: right;\n",
       "    }\n",
       "</style>\n",
       "<table border=\"1\" class=\"dataframe\">\n",
       "  <thead>\n",
       "    <tr style=\"text-align: right;\">\n",
       "      <th></th>\n",
       "      <th>id</th>\n",
       "      <th>age</th>\n",
       "      <th>income</th>\n",
       "      <th>student</th>\n",
       "      <th>credit-rating</th>\n",
       "      <th>buys_computer</th>\n",
       "    </tr>\n",
       "  </thead>\n",
       "  <tbody>\n",
       "    <tr>\n",
       "      <th>0</th>\n",
       "      <td>1</td>\n",
       "      <td>young</td>\n",
       "      <td>high</td>\n",
       "      <td>no</td>\n",
       "      <td>fair</td>\n",
       "      <td>no</td>\n",
       "    </tr>\n",
       "    <tr>\n",
       "      <th>1</th>\n",
       "      <td>2</td>\n",
       "      <td>young</td>\n",
       "      <td>high</td>\n",
       "      <td>no</td>\n",
       "      <td>good</td>\n",
       "      <td>no</td>\n",
       "    </tr>\n",
       "    <tr>\n",
       "      <th>2</th>\n",
       "      <td>3</td>\n",
       "      <td>middle</td>\n",
       "      <td>high</td>\n",
       "      <td>no</td>\n",
       "      <td>fair</td>\n",
       "      <td>yes</td>\n",
       "    </tr>\n",
       "    <tr>\n",
       "      <th>3</th>\n",
       "      <td>4</td>\n",
       "      <td>old</td>\n",
       "      <td>medium</td>\n",
       "      <td>no</td>\n",
       "      <td>fair</td>\n",
       "      <td>yes</td>\n",
       "    </tr>\n",
       "    <tr>\n",
       "      <th>4</th>\n",
       "      <td>5</td>\n",
       "      <td>old</td>\n",
       "      <td>low</td>\n",
       "      <td>yes</td>\n",
       "      <td>fair</td>\n",
       "      <td>yes</td>\n",
       "    </tr>\n",
       "    <tr>\n",
       "      <th>5</th>\n",
       "      <td>6</td>\n",
       "      <td>old</td>\n",
       "      <td>low</td>\n",
       "      <td>yes</td>\n",
       "      <td>good</td>\n",
       "      <td>no</td>\n",
       "    </tr>\n",
       "    <tr>\n",
       "      <th>6</th>\n",
       "      <td>7</td>\n",
       "      <td>middle</td>\n",
       "      <td>low</td>\n",
       "      <td>yes</td>\n",
       "      <td>good</td>\n",
       "      <td>yes</td>\n",
       "    </tr>\n",
       "    <tr>\n",
       "      <th>7</th>\n",
       "      <td>8</td>\n",
       "      <td>young</td>\n",
       "      <td>medium</td>\n",
       "      <td>no</td>\n",
       "      <td>fair</td>\n",
       "      <td>no</td>\n",
       "    </tr>\n",
       "    <tr>\n",
       "      <th>8</th>\n",
       "      <td>9</td>\n",
       "      <td>young</td>\n",
       "      <td>low</td>\n",
       "      <td>yes</td>\n",
       "      <td>fair</td>\n",
       "      <td>yes</td>\n",
       "    </tr>\n",
       "    <tr>\n",
       "      <th>9</th>\n",
       "      <td>10</td>\n",
       "      <td>old</td>\n",
       "      <td>medium</td>\n",
       "      <td>yes</td>\n",
       "      <td>fair</td>\n",
       "      <td>yes</td>\n",
       "    </tr>\n",
       "    <tr>\n",
       "      <th>10</th>\n",
       "      <td>11</td>\n",
       "      <td>young</td>\n",
       "      <td>medium</td>\n",
       "      <td>yes</td>\n",
       "      <td>good</td>\n",
       "      <td>yes</td>\n",
       "    </tr>\n",
       "    <tr>\n",
       "      <th>11</th>\n",
       "      <td>12</td>\n",
       "      <td>middle</td>\n",
       "      <td>medium</td>\n",
       "      <td>no</td>\n",
       "      <td>good</td>\n",
       "      <td>yes</td>\n",
       "    </tr>\n",
       "    <tr>\n",
       "      <th>12</th>\n",
       "      <td>13</td>\n",
       "      <td>middle</td>\n",
       "      <td>high</td>\n",
       "      <td>yes</td>\n",
       "      <td>fair</td>\n",
       "      <td>yes</td>\n",
       "    </tr>\n",
       "    <tr>\n",
       "      <th>13</th>\n",
       "      <td>14</td>\n",
       "      <td>old</td>\n",
       "      <td>medium</td>\n",
       "      <td>no</td>\n",
       "      <td>good</td>\n",
       "      <td>no</td>\n",
       "    </tr>\n",
       "  </tbody>\n",
       "</table>\n",
       "</div>"
      ],
      "text/plain": [
       "    id     age  income student credit-rating buys_computer\n",
       "0    1   young    high      no          fair            no\n",
       "1    2   young    high      no          good            no\n",
       "2    3  middle    high      no          fair           yes\n",
       "3    4     old  medium      no          fair           yes\n",
       "4    5     old     low     yes          fair           yes\n",
       "5    6     old     low     yes          good            no\n",
       "6    7  middle     low     yes          good           yes\n",
       "7    8   young  medium      no          fair            no\n",
       "8    9   young     low     yes          fair           yes\n",
       "9   10     old  medium     yes          fair           yes\n",
       "10  11   young  medium     yes          good           yes\n",
       "11  12  middle  medium      no          good           yes\n",
       "12  13  middle    high     yes          fair           yes\n",
       "13  14     old  medium      no          good            no"
      ]
     },
     "execution_count": 155,
     "metadata": {},
     "output_type": "execute_result"
    }
   ],
   "source": [
    "data"
   ]
  },
  {
   "cell_type": "code",
   "execution_count": 156,
   "id": "5d2f9ff3-6b93-491c-8ab3-772727e87ebb",
   "metadata": {},
   "outputs": [],
   "source": [
    "# Calculating entropy of the target attribute\n",
    "def entropy(data,col):\n",
    "    uniq_vals={}\n",
    "    for i in data[col]:\n",
    "        if i in uniq_vals:\n",
    "            uniq_vals[i]+=1\n",
    "        else:\n",
    "            uniq_vals[i]=1\n",
    "    n=len(data)\n",
    "    entropy=0\n",
    "   \n",
    "    for i in uniq_vals:\n",
    "        prob=uniq_vals[i]/n\n",
    "        entropy-=prob*math.log2(prob)\n",
    "    \n",
    "    return entropy\n",
    "        \n",
    "\n",
    "    \n",
    "    "
   ]
  },
  {
   "cell_type": "code",
   "execution_count": 157,
   "id": "42af9220-9a35-403a-b014-ec1687c22350",
   "metadata": {},
   "outputs": [
    {
     "data": {
      "text/plain": [
       "Index(['id', 'age', 'income', 'student', 'credit-rating', 'buys_computer'], dtype='object')"
      ]
     },
     "execution_count": 157,
     "metadata": {},
     "output_type": "execute_result"
    }
   ],
   "source": [
    "# calculating entropy for each attribute\n",
    "data.columns"
   ]
  },
  {
   "cell_type": "code",
   "execution_count": 158,
   "id": "c92cedba-4b96-4c75-a865-518746de7b98",
   "metadata": {},
   "outputs": [
    {
     "data": {
      "text/plain": [
       "['age', 'income', 'student', 'credit-rating']"
      ]
     },
     "execution_count": 158,
     "metadata": {},
     "output_type": "execute_result"
    }
   ],
   "source": [
    "exclude=['id','buys_computer']\n",
    "cols=data.columns.to_list()\n",
    "for i in exclude:\n",
    "    cols.remove(i)\n",
    "cols"
   ]
  },
  {
   "cell_type": "code",
   "execution_count": 159,
   "id": "22b9c50e-7b5c-4894-9ef1-5b189129e0ac",
   "metadata": {},
   "outputs": [
    {
     "data": {
      "text/plain": [
       "[0.694, 0.911, 0.788, 0.892]"
      ]
     },
     "execution_count": 159,
     "metadata": {},
     "output_type": "execute_result"
    }
   ],
   "source": [
    "def weighted_entropy(data,col,target):\n",
    "    weighted_entropy=0\n",
    "    n=len(data)\n",
    "    uniq_vals={}\n",
    "    for i in data[col]:\n",
    "        if i in uniq_vals:\n",
    "            uniq_vals[i]+=1\n",
    "        else:\n",
    "            uniq_vals[i]=1\n",
    "   \n",
    "    for i in uniq_vals:\n",
    "        subset=data[data[col]==i]\n",
    "        weighted_entropy+=uniq_vals[i]/n*entropy(subset,target)\n",
    "        \n",
    "    \n",
    "    return round(weighted_entropy,3)\n",
    "\n",
    "entro=[]\n",
    "for i in cols:\n",
    "    entro.append(weighted_entropy(data,i,'buys_computer'))\n",
    "entro\n",
    "    \n",
    "#weighted_entropy(data,'income','buys_computer')  "
   ]
  },
  {
   "cell_type": "code",
   "execution_count": 160,
   "id": "50faf704-bdd5-4e9b-b991-3be2315f9509",
   "metadata": {},
   "outputs": [
    {
     "data": {
      "text/plain": [
       "[0.246, 0.029, 0.152, 0.048]"
      ]
     },
     "execution_count": 160,
     "metadata": {},
     "output_type": "execute_result"
    }
   ],
   "source": [
    "def information_gain(data,col,target):\n",
    "    entropy_target=entropy(data,target)\n",
    "    entropy_column=weighted_entropy(data,col,target)\n",
    "    information_gain=entropy_target-entropy_column\n",
    "    return round(information_gain,3)\n",
    "\n",
    "ig=[]\n",
    "for i in cols:\n",
    "    ig.append(information_gain(data,i,'buys_computer'))\n",
    "ig"
   ]
  },
  {
   "cell_type": "code",
   "execution_count": 161,
   "id": "c457723f-b9e2-4417-b910-269fdec53f7c",
   "metadata": {},
   "outputs": [
    {
     "data": {
      "text/plain": [
       "[1.577, 1.557, 1.0, 0.985]"
      ]
     },
     "execution_count": 161,
     "metadata": {},
     "output_type": "execute_result"
    }
   ],
   "source": [
    "def splitinfo(data,col):\n",
    "    n=len(data)\n",
    "    uniq_vals={}\n",
    "    split=0\n",
    "    for i in data[col]:\n",
    "        if i in uniq_vals:\n",
    "            uniq_vals[i]+=1\n",
    "        else:\n",
    "            uniq_vals[i]=1\n",
    "    for i in uniq_vals:\n",
    "       prob=uniq_vals[i]/n\n",
    "       split-=prob*math.log2(prob)\n",
    "    return round(split,3)\n",
    "\n",
    "sp=[]\n",
    "for i in cols:\n",
    "    sp.append(splitinfo(data,i))\n",
    "sp\n",
    "    "
   ]
  },
  {
   "cell_type": "code",
   "execution_count": 162,
   "id": "b796f0d0-b383-4c29-af8c-18be5320bd36",
   "metadata": {},
   "outputs": [
    {
     "data": {
      "text/plain": [
       "[0.156, 0.019, 0.152, 0.049]"
      ]
     },
     "execution_count": 162,
     "metadata": {},
     "output_type": "execute_result"
    }
   ],
   "source": [
    "def gainratio(data,col,target):\n",
    "    gain_col=information_gain(data,col,target)\n",
    "    split=splitinfo(data,col)\n",
    "    gain_ratio=gain_col/split\n",
    "    return round(gain_ratio,3)\n",
    "gr=[]\n",
    "for i in cols:\n",
    "    gr.append(gainratio(data,i,'buys_computer'))\n",
    "gr"
   ]
  },
  {
   "cell_type": "code",
   "execution_count": 163,
   "id": "72972a55-e3c7-4179-a6d2-38cc15ef4255",
   "metadata": {},
   "outputs": [
    {
     "data": {
      "text/plain": [
       "0.4591836734693877"
      ]
     },
     "execution_count": 163,
     "metadata": {},
     "output_type": "execute_result"
    }
   ],
   "source": [
    "def gini_index(data,col):\n",
    "    gini=0\n",
    "    uniq_vals={}\n",
    "    for i in data[col]:\n",
    "        if i in uniq_vals:\n",
    "            uniq_vals[i]+=1\n",
    "        else:\n",
    "            uniq_vals[i]=1\n",
    "    n=len(data)\n",
    "    for i in uniq_vals:\n",
    "        prob=uniq_vals[i]/n\n",
    "        gini+=prob*prob\n",
    "    gini=1-gini\n",
    "    return gini\n",
    "gini_index(data,'buys_computer')"
   ]
  },
  {
   "cell_type": "code",
   "execution_count": 164,
   "id": "a8b7e7f7-7959-428b-9fb2-4d511b6d0baa",
   "metadata": {},
   "outputs": [
    {
     "data": {
      "text/plain": [
       "[0.343, 0.44, 0.367, 0.429]"
      ]
     },
     "execution_count": 164,
     "metadata": {},
     "output_type": "execute_result"
    }
   ],
   "source": [
    "def weighted_gini(data,col,target):\n",
    "    weighted_gini=0\n",
    "    n=len(data)\n",
    "    uniq_vals={}\n",
    "    for i in data[col]:\n",
    "        if i in uniq_vals:\n",
    "            uniq_vals[i]+=1\n",
    "        else:\n",
    "            uniq_vals[i]=1\n",
    "   \n",
    "    for i in uniq_vals:\n",
    "        subset=data[data[col]==i]\n",
    "        weighted_gini+=uniq_vals[i]/n*gini_index(subset,target)\n",
    "        \n",
    "    \n",
    "    return round(weighted_gini,3)\n",
    "\n",
    "gi=[]\n",
    "for i in cols:\n",
    "    gi.append(weighted_gini(data,i,'buys_computer'))\n",
    "gi"
   ]
  },
  {
   "cell_type": "code",
   "execution_count": 165,
   "id": "ae0634ab-b6ba-4d06-95c6-dc1795f1fa59",
   "metadata": {},
   "outputs": [
    {
     "data": {
      "text/html": [
       "<div>\n",
       "<style scoped>\n",
       "    .dataframe tbody tr th:only-of-type {\n",
       "        vertical-align: middle;\n",
       "    }\n",
       "\n",
       "    .dataframe tbody tr th {\n",
       "        vertical-align: top;\n",
       "    }\n",
       "\n",
       "    .dataframe thead th {\n",
       "        text-align: right;\n",
       "    }\n",
       "</style>\n",
       "<table border=\"1\" class=\"dataframe\">\n",
       "  <thead>\n",
       "    <tr style=\"text-align: right;\">\n",
       "      <th></th>\n",
       "      <th>Entropy</th>\n",
       "      <th>Information_Gain</th>\n",
       "      <th>Split_Info</th>\n",
       "      <th>Gain_Ratio</th>\n",
       "      <th>Gini_Index</th>\n",
       "    </tr>\n",
       "  </thead>\n",
       "  <tbody>\n",
       "    <tr>\n",
       "      <th>age</th>\n",
       "      <td>0.694</td>\n",
       "      <td>0.246</td>\n",
       "      <td>1.577</td>\n",
       "      <td>0.156</td>\n",
       "      <td>0.343</td>\n",
       "    </tr>\n",
       "    <tr>\n",
       "      <th>income</th>\n",
       "      <td>0.911</td>\n",
       "      <td>0.029</td>\n",
       "      <td>1.557</td>\n",
       "      <td>0.019</td>\n",
       "      <td>0.440</td>\n",
       "    </tr>\n",
       "    <tr>\n",
       "      <th>student</th>\n",
       "      <td>0.788</td>\n",
       "      <td>0.152</td>\n",
       "      <td>1.000</td>\n",
       "      <td>0.152</td>\n",
       "      <td>0.367</td>\n",
       "    </tr>\n",
       "    <tr>\n",
       "      <th>credit-rating</th>\n",
       "      <td>0.892</td>\n",
       "      <td>0.048</td>\n",
       "      <td>0.985</td>\n",
       "      <td>0.049</td>\n",
       "      <td>0.429</td>\n",
       "    </tr>\n",
       "  </tbody>\n",
       "</table>\n",
       "</div>"
      ],
      "text/plain": [
       "               Entropy  Information_Gain  Split_Info  Gain_Ratio  Gini_Index\n",
       "age              0.694             0.246       1.577       0.156       0.343\n",
       "income           0.911             0.029       1.557       0.019       0.440\n",
       "student          0.788             0.152       1.000       0.152       0.367\n",
       "credit-rating    0.892             0.048       0.985       0.049       0.429"
      ]
     },
     "execution_count": 165,
     "metadata": {},
     "output_type": "execute_result"
    }
   ],
   "source": [
    "df=pd.DataFrame({'Entropy':entro,'Information_Gain':ig,'Split_Info':sp,'Gain_Ratio':gr,'Gini_Index':gi})\n",
    "df.index=cols\n",
    "df"
   ]
  }
 ],
 "metadata": {
  "kernelspec": {
   "display_name": "Python 3 (ipykernel)",
   "language": "python",
   "name": "python3"
  },
  "language_info": {
   "codemirror_mode": {
    "name": "ipython",
    "version": 3
   },
   "file_extension": ".py",
   "mimetype": "text/x-python",
   "name": "python",
   "nbconvert_exporter": "python",
   "pygments_lexer": "ipython3",
   "version": "3.11.6"
  }
 },
 "nbformat": 4,
 "nbformat_minor": 5
}
